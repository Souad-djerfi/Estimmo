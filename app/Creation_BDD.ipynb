{
 "metadata": {
  "language_info": {
   "codemirror_mode": {
    "name": "ipython",
    "version": 3
   },
   "file_extension": ".py",
   "mimetype": "text/x-python",
   "name": "python",
   "nbconvert_exporter": "python",
   "pygments_lexer": "ipython3",
   "version": "3.9.5"
  },
  "orig_nbformat": 4,
  "kernelspec": {
   "name": "python3",
   "display_name": "Python 3.9.5 64-bit"
  },
  "interpreter": {
   "hash": "88ac2394ebfb1498fc5009e3728603c22e948b3a3a8ec13724ed1c353ba8e9f4"
  }
 },
 "nbformat": 4,
 "nbformat_minor": 2,
 "cells": [
  {
   "cell_type": "code",
   "execution_count": 3,
   "metadata": {},
   "outputs": [
    {
     "output_type": "error",
     "ename": "ModuleNotFoundError",
     "evalue": "No module named 'app'",
     "traceback": [
      "\u001b[1;31m---------------------------------------------------------------------------\u001b[0m",
      "\u001b[1;31mModuleNotFoundError\u001b[0m                       Traceback (most recent call last)",
      "\u001b[1;32m<ipython-input-3-8c1f4c45cb5e>\u001b[0m in \u001b[0;36m<module>\u001b[1;34m\u001b[0m\n\u001b[0;32m     11\u001b[0m \u001b[1;33m\u001b[0m\u001b[0m\n\u001b[0;32m     12\u001b[0m \u001b[1;32mfrom\u001b[0m \u001b[0mbase\u001b[0m \u001b[1;32mimport\u001b[0m \u001b[0mBase\u001b[0m\u001b[1;33m,\u001b[0m \u001b[0mSession\u001b[0m\u001b[1;33m,\u001b[0m \u001b[0mengine\u001b[0m\u001b[1;33m\u001b[0m\u001b[1;33m\u001b[0m\u001b[0m\n\u001b[1;32m---> 13\u001b[1;33m \u001b[1;32mfrom\u001b[0m \u001b[0mprix_med\u001b[0m \u001b[1;32mimport\u001b[0m \u001b[0mPrix_Median\u001b[0m\u001b[1;33m\u001b[0m\u001b[1;33m\u001b[0m\u001b[0m\n\u001b[0m\u001b[0;32m     14\u001b[0m \u001b[1;33m\u001b[0m\u001b[0m\n\u001b[0;32m     15\u001b[0m \u001b[1;33m\u001b[0m\u001b[0m\n",
      "\u001b[1;32md:\\IA\\Projet-Certif-Agile\\HousingWeb\\app\\prix_med.py\u001b[0m in \u001b[0;36m<module>\u001b[1;34m\u001b[0m\n\u001b[0;32m      6\u001b[0m \"\"\"\n\u001b[0;32m      7\u001b[0m \u001b[1;33m\u001b[0m\u001b[0m\n\u001b[1;32m----> 8\u001b[1;33m \u001b[1;32mfrom\u001b[0m \u001b[0mapp\u001b[0m\u001b[1;33m.\u001b[0m\u001b[0mbase\u001b[0m \u001b[1;32mimport\u001b[0m \u001b[0mBase\u001b[0m\u001b[1;33m\u001b[0m\u001b[1;33m\u001b[0m\u001b[0m\n\u001b[0m\u001b[0;32m      9\u001b[0m \u001b[1;32mfrom\u001b[0m \u001b[0msqlalchemy\u001b[0m \u001b[1;32mimport\u001b[0m \u001b[0mColumn\u001b[0m\u001b[1;33m,\u001b[0m \u001b[0mInteger\u001b[0m\u001b[1;33m,\u001b[0m \u001b[0mFloat\u001b[0m\u001b[1;33m,\u001b[0m \u001b[0mString\u001b[0m\u001b[1;33m\u001b[0m\u001b[1;33m\u001b[0m\u001b[0m\n\u001b[0;32m     10\u001b[0m \u001b[1;33m\u001b[0m\u001b[0m\n",
      "\u001b[1;31mModuleNotFoundError\u001b[0m: No module named 'app'"
     ]
    }
   ],
   "source": [
    "#!/usr/bin/env python3\n",
    "# -*- coding: utf-8 -*-\n",
    "\"\"\"\n",
    "Created on Thu Jun 17 10:42:28 2021\n",
    "@author: simplon\n",
    "\"\"\"\n",
    "# pip install psycopg2-binary\n",
    "# DB housing créée dans pgAdmin\n",
    "import pandas as pd\n",
    "\n",
    "\n",
    "from base import Base, Session, engine\n",
    "from prix_med import Prix_Median\n",
    "from sqlalchemy import Column, Integer, Float, String\n",
    "\n",
    "\n",
    "class Prix_Median(Base):\n",
    "    __tablename__ = 'prix_median'\n",
    "    \n",
    "    id_prix_median = Column(Integer, primary_key=True)\n",
    "    \n",
    "    longitude = Column(Float)\n",
    "    latitude = Column(Float)\n",
    "    housing_median_age = Column(Float)\n",
    "    total_rooms = Column(Float)\n",
    "    total_bedrooms = Column(Float)\n",
    "    population = Column(Float)\n",
    "    households = Column(Integer)\n",
    "    median_income = Column(Float)\n",
    "    median_house_value = Column(Integer)\n",
    "    ocean_proximity = Column(Integer)\n",
    "    ocean_proximity_str = Column(String)\n",
    "    \n",
    "    \n",
    "    def __init__(self, longitude, latitude, housing_median_age, total_rooms,\n",
    "                 total_bedrooms, population, households, median_income,\n",
    "                 median_house_value, ocean_proximity, ocean_proximity_str):\n",
    "    \n",
    "        self.longitude = longitude\n",
    "        self.latitude = latitude\n",
    "        self.housing_median_age = housing_median_age\n",
    "        self.total_rooms = total_rooms\n",
    "        self.total_bedrooms = total_bedrooms\n",
    "        self.population = population\n",
    "        self.households = households\n",
    "        self.median_income = median_income\n",
    "        self.median_house_value = median_house_value\n",
    "        self.ocean_proximity = ocean_proximity\n",
    "        self.ocean_proximity_str = ocean_proximity_str\n",
    "\n",
    "def initialize_db(s):\n",
    "    data = pd.read_csv(\"D:\\IA\\Projet-Certif-Agile\\housing.csv\")\n",
    "    \n",
    "    l_ocean_proximity = data['ocean_proximity'].drop_duplicates().tolist() # l.index()\n",
    "    \n",
    "    for i in range(data.shape[0]):\n",
    "        pm = Prix_Median(data.iloc[i]['longitude'],\n",
    "                         data.iloc[i]['latitude'],\n",
    "                         data.iloc[i]['housing_median_age'],\n",
    "                         data.iloc[i]['total_rooms'],\n",
    "                         data.iloc[i]['total_bedrooms'],\n",
    "                         data.iloc[i]['population'],\n",
    "                         data.iloc[i]['households'],\n",
    "                         data.iloc[i]['median_income'],\n",
    "                         data.iloc[i]['median_house_value'],\n",
    "                         l_ocean_proximity.index(data.iloc[i]['ocean_proximity']),\n",
    "                         data.iloc[i]['ocean_proximity'])\n",
    "        s.add(pm)\n",
    "    s.commit()\n",
    "\n",
    "\n",
    "Base.metadata.create_all(engine)\n",
    "\n",
    "session = Session()\n",
    "\n",
    "# Crée et remplit la table de la DB (qui faut la créer sur pgAdmin)\n",
    "initialize_db(session)\n",
    "\n",
    "session.close()"
   ]
  },
  {
   "cell_type": "code",
   "execution_count": null,
   "metadata": {},
   "outputs": [],
   "source": []
  }
 ]
}